{
  "cells": [
    {
      "cell_type": "code",
      "execution_count": 1,
      "metadata": {
        "id": "MakD_UE-6VJ0"
      },
      "outputs": [],
      "source": [
        "import torch\n",
        "import torchvision\n",
        "import torch.nn as nn\n",
        "import torch.nn.functional as F\n",
        "import torchvision\n",
        "import matplotlib.pyplot as plt\n",
        "import random\n",
        "import numpy as np\n",
        "import torchvision.transforms.functional as TF\n",
        "\n",
        "class OneClassDatasetFashionMNIST(torchvision.datasets.FashionMNIST):\n",
        "    def __init__(self, root_dir, real_class=1, transform=None, train=True, download=True):\n",
        "        super().__init__(root=root_dir, transform=transform, train=train, download=download)\n",
        "        self.real_class = real_class\n",
        "        self.samples = []\n",
        "        for i in range(len(self.data)):\n",
        "            if self.targets[i] == self.real_class:\n",
        "                self.samples.append((self.data[i], self.targets[i]))\n",
        "\n",
        "    def __len__(self):\n",
        "        return len(self.samples)\n",
        "\n",
        "    def __getitem__(self, idx):\n",
        "        data = self.samples[idx]\n",
        "        image = data[0].unsqueeze(0)\n",
        "        image = image / 255\n",
        "\n",
        "        if self.transform:\n",
        "            image = self.transform(image)\n",
        "\n",
        "        label = random.randint(0, 3)\n",
        "        image = TF.rotate(image, label * 90)\n",
        "\n",
        "        return image, label"
      ]
    },
    {
      "cell_type": "code",
      "execution_count": 2,
      "metadata": {
        "id": "PaJ_0HrnGDpF"
      },
      "outputs": [],
      "source": [
        "transform = torchvision.transforms.Compose([\n",
        "    torchvision.transforms.Resize((32, 32)),\n",
        "    torchvision.transforms.Normalize((0.5,), (0.5,))\n",
        "    ])\n",
        "\n",
        "class_1 = OneClassDatasetFashionMNIST(root_dir='.', real_class=2, transform=transform, train=True, download=False)"
      ]
    },
    {
      "cell_type": "code",
      "execution_count": 3,
      "metadata": {
        "id": "1-qUn3KGGg9X"
      },
      "outputs": [],
      "source": [
        "image, label = class_1[0]"
      ]
    },
    {
      "cell_type": "code",
      "execution_count": 4,
      "metadata": {
        "colab": {
          "base_uri": "https://localhost:8080/"
        },
        "id": "iGuTd64iJu-2",
        "outputId": "968c354f-a188-4e62-abfc-e7824739b9b2"
      },
      "outputs": [
        {
          "data": {
            "text/plain": [
              "6000"
            ]
          },
          "execution_count": 4,
          "metadata": {},
          "output_type": "execute_result"
        }
      ],
      "source": [
        "len(class_1)"
      ]
    },
    {
      "cell_type": "code",
      "execution_count": 5,
      "metadata": {
        "colab": {
          "base_uri": "https://localhost:8080/",
          "height": 430
        },
        "id": "tFR2q3sPGjb2",
        "outputId": "0d7a101b-9a8b-4cd2-8d97-d4f309903c6f"
      },
      "outputs": [
        {
          "data": {
            "image/png": "[encoded data removed]",
            "text/plain": [
              "<Figure size 640x480 with 1 Axes>"
            ]
          },
          "metadata": {},
          "output_type": "display_data"
        }
      ],
      "source": [
        "plt.imshow(image.permute(1, 2, 0).numpy(), cmap='gray');"
      ]
    },
    {
      "cell_type": "code",
      "execution_count": 6,
      "metadata": {
        "id": "NOAkb2cZJ2c-"
      },
      "outputs": [],
      "source": [
        "class IdentityBlock(nn.Module):\n",
        "    def __init__(self, in_channels, out_channels, kernel_size=3):\n",
        "        super(IdentityBlock, self).__init__()\n",
        "        self.conv1 = nn.Conv2d(in_channels, out_channels, kernel_size, padding=kernel_size//2)\n",
        "        self.conv2 = nn.Conv2d(out_channels, out_channels, kernel_size, padding=kernel_size//2)\n",
        "        self.conv_residual = nn.Conv2d(in_channels, out_channels, 1)\n",
        "        self.bn1 = nn.BatchNorm2d(out_channels)\n",
        "        self.bn2 = nn.BatchNorm2d(out_channels)\n",
        "        self.activation = nn.ReLU()\n",
        "\n",
        "    def forward(self, input):\n",
        "        x = self.conv1(input)\n",
        "        x = self.bn1(x)\n",
        "        x = self.activation(x)\n",
        "        x = self.conv2(x)\n",
        "        x = self.bn2(x)\n",
        "        residual = self.conv_residual(input)\n",
        "        x = self.activation(x+residual)\n",
        "        return x\n",
        "\n",
        "class ConvBlock(nn.Module):\n",
        "    def __init__(self, in_channels, out_channels, kernel_size=3):\n",
        "        super(ConvBlock, self).__init__()\n",
        "        self.conv1 = nn.Conv2d(in_channels, out_channels, kernel_size, padding=kernel_size//2, stride=2)\n",
        "        self.conv2 = nn.Conv2d(out_channels, out_channels, kernel_size, padding=kernel_size//2)\n",
        "        self.conv_residual = nn.Conv2d(in_channels, out_channels, kernel_size=1, stride=2)\n",
        "        self.bn1 = nn.BatchNorm2d(out_channels)\n",
        "        self.bn2 = nn.BatchNorm2d(out_channels)\n",
        "        self.bn_residual = nn.BatchNorm2d(out_channels)\n",
        "        self.activation = nn.ReLU()\n",
        "\n",
        "    def forward(self, input):\n",
        "        x = self.conv1(input)\n",
        "        x = self.bn1(x)\n",
        "        x = self.activation(x)\n",
        "        x = self.conv2(x)\n",
        "        x = self.bn2(x)\n",
        "        residual = self.conv_residual(input)\n",
        "        residual = self.bn_residual(residual)\n",
        "        x = self.activation(x+residual)\n",
        "        return x\n",
        "\n",
        "class ConvGroup(nn.Module):\n",
        "    def __init__(self, in_channels, out_channels, kernel_size=3, stride=1):\n",
        "        super(ConvGroup, self).__init__()\n",
        "        self.in_channels = in_channels\n",
        "        self.out_channels = out_channels\n",
        "        if stride == 2:\n",
        "            self.block1 = ConvBlock(in_channels, out_channels, kernel_size)\n",
        "        else:\n",
        "            self.block1 = IdentityBlock(in_channels, out_channels, kernel_size)\n",
        "        self.block2 = IdentityBlock(out_channels, out_channels, kernel_size)\n",
        "        self.block3 = IdentityBlock(out_channels, out_channels, kernel_size)\n",
        "\n",
        "    def forward(self, x):\n",
        "        x = self.block1(x)\n",
        "        x = self.block2(x)\n",
        "        x = self.block3(x)\n",
        "        return x\n",
        "\n",
        "\n",
        "class Net(nn.Module):\n",
        "    def __init__(self, num_of_classes):\n",
        "        super(Net, self).__init__()\n",
        "        self.conv1 = nn.Conv2d(in_channels=1, out_channels=8, kernel_size=3)\n",
        "        self.group1 = ConvGroup(in_channels=8, out_channels=16, kernel_size=3)\n",
        "        self.group2 = ConvGroup(in_channels=16, out_channels=32, kernel_size=3, stride=2)\n",
        "        self.group3 = ConvGroup(in_channels=32, out_channels=64, kernel_size=3, stride=2)\n",
        "        self.fc = nn.Linear(64*8*8, num_of_classes)\n",
        "\n",
        "    def forward(self, x):\n",
        "        x = self.conv1(x)\n",
        "        x = self.group1(x)\n",
        "        x = self.group2(x)\n",
        "        x = self.group3(x)\n",
        "        x = x.view(-1, 64*8*8)\n",
        "        x = self.fc(x)\n",
        "        return x"
      ]
    },
    {
      "cell_type": "code",
      "execution_count": 7,
      "metadata": {
        "id": "-aVpyryaMn_Q"
      },
      "outputs": [],
      "source": [
        "net = Net(num_of_classes=4)"
      ]
    },
    {
      "cell_type": "code",
      "execution_count": 38,
      "metadata": {
        "id": "bXJxPFf5M-hG"
      },
      "outputs": [],
      "source": [
        "from sklearn.metrics import roc_curve, precision_recall_curve, auc\n",
        "\n",
        "def train_epoch(model, train_loader, criterion, optimizer):\n",
        "    model.train()\n",
        "\n",
        "    tloss = 0\n",
        "    for i, data in enumerate(train_loader, 0):\n",
        "        inputs, labels = data\n",
        "        inputs, labels = inputs.cuda(), labels.cuda()\n",
        "        optimizer.zero_grad()\n",
        "        outputs = model(inputs)\n",
        "        loss = criterion(outputs, labels)\n",
        "        loss.backward()\n",
        "        optimizer.step()\n",
        "        tloss += loss.item()\n",
        "    return tloss / len(train_loader)\n",
        "\n",
        "def evaluate_model(model, test_loader, criterion):\n",
        "    model.eval()\n",
        "    correct = 0\n",
        "    total = 0\n",
        "    tloss = 0\n",
        "    with torch.no_grad():\n",
        "        for data in test_loader:\n",
        "            images, labels = data\n",
        "            images, labels = images.cuda(), labels.cuda()\n",
        "            outputs = model(images)\n",
        "            _, predicted = torch.max(outputs.data, 1)\n",
        "            total += labels.size(0)\n",
        "            correct += (predicted == labels).sum().item()\n",
        "            loss = criterion(outputs, labels)\n",
        "            tloss += loss.item()\n",
        "\n",
        "    return tloss / len(test_loader), correct / total\n",
        "\n",
        "def test_model(model, real_test_loader, ano_test_loaders):\n",
        "    model.eval()\n",
        "\n",
        "    def get_score(loader):\n",
        "        lopprobs = []\n",
        "        with torch.no_grad():\n",
        "            for data in loader:\n",
        "                images, labels = data\n",
        "                images, labels = images.cuda(), labels.cuda()\n",
        "                outputs = model(images)\n",
        "                logp = F.softmax(outputs, dim=1)[list(range(images.shape[0])), labels]\n",
        "                lopprobs.append(logp.cpu().numpy())\n",
        "        return np.concatenate(lopprobs)\n",
        "\n",
        "\n",
        "\n",
        "    real_lopprobs = get_score(real_test_loader)\n",
        "    ano_lopprobs = [get_score(loader) for loader in ano_test_loaders]\n",
        "    aurocs = []\n",
        "    for i in range(9):\n",
        "        y_true = np.concatenate([np.ones_like(real_lopprobs), np.zeros_like(ano_lopprobs[i])])\n",
        "        y_score = np.concatenate([real_lopprobs, ano_lopprobs[i]])\n",
        "\n",
        "        fpr, tpr, roc_thresholds = roc_curve(y_true, y_score)\n",
        "        roc_auc = auc(fpr, tpr)\n",
        "\n",
        "        aurocs.append(roc_auc)\n",
        "\n",
        "    return np.mean(aurocs)\n",
        "\n",
        "def select_th(model, real_test_loader, ano_test_loader):\n",
        "    model.eval()\n",
        "\n",
        "    def get_score(loader):\n",
        "        lopprobs = []\n",
        "        with torch.no_grad():\n",
        "            for data in loader:\n",
        "                images, labels = data\n",
        "                images, labels = images.cuda(), labels.cuda()\n",
        "                outputs = model(images)\n",
        "                logp = F.softmax(outputs, dim=1)[list(range(images.shape[0])), labels]\n",
        "                lopprobs.append(logp.cpu().numpy())\n",
        "        return np.concatenate(lopprobs)\n",
        "\n",
        "    real_lopprobs = get_score(real_test_loader)\n",
        "    ano_lopprobs = get_score(ano_test_loader)\n",
        "    y_true = np.concatenate([np.ones_like(real_lopprobs), np.zeros_like(ano_lopprobs)])\n",
        "    y_score = np.concatenate([real_lopprobs, ano_lopprobs])\n",
        "\n",
        "    lam = np.linspace(0.001, 0.99, 10)\n",
        "    for l in lam:\n",
        "      b_score = y_score >= l\n",
        "      correct = (b_score == y_true).sum().item()\n",
        "      acc = correct / len(y_true)\n",
        "\n",
        "      print(acc, l)\n",
        "\n",
        "\n",
        "\n",
        "def main(real_class):\n",
        "    transform = torchvision.transforms.Compose([\n",
        "        torchvision.transforms.Resize((32, 32)),\n",
        "        torchvision.transforms.Normalize((0.5,), (0.5,))\n",
        "        ])\n",
        "\n",
        "    train_dataset = OneClassDatasetFashionMNIST(root_dir='.', real_class=real_class, transform=transform, train=True, download=True)\n",
        "    val_dataset = OneClassDatasetFashionMNIST(root_dir='.', real_class=real_class, transform=transform, train=False, download=True)\n",
        "\n",
        "    train_loader = torch.utils.data.DataLoader(train_dataset, batch_size=32, shuffle=True)\n",
        "    val_loader = torch.utils.data.DataLoader(val_dataset, batch_size=32, shuffle=False)\n",
        "\n",
        "\n",
        "    real_test_dataset = OneClassDatasetFashionMNIST(root_dir='.', real_class=real_class, transform=transform, train=False, download=True)\n",
        "    real_test_loader = torch.utils.data.DataLoader(real_test_dataset, batch_size=32, shuffle=False)\n",
        "    ano_test_datasets = []\n",
        "    ano_test_loaders = []\n",
        "    for i in range(10):\n",
        "        if i == real_class:\n",
        "            continue\n",
        "        ano_test_datasets.append(OneClassDatasetFashionMNIST(root_dir='.', real_class=i, transform=transform, train=False, download=True))\n",
        "        ano_test_loaders.append(torch.utils.data.DataLoader(ano_test_datasets[-1], batch_size=32, shuffle=False))\n",
        "\n",
        "    model = Net(num_of_classes=4)\n",
        "    model = model.cuda()\n",
        "    criterion = nn.CrossEntropyLoss()\n",
        "    optimizer = torch.optim.Adam(model.parameters(), lr=0.001)\n",
        "\n",
        "    for epoch in range(2):\n",
        "        tloss = train_epoch(model, train_loader, criterion, optimizer)\n",
        "        val_loss, val_acc = evaluate_model(model, val_loader, criterion)\n",
        "        print(f'Epoch {epoch} Train Loss: {tloss} Test Loss: {val_loss} Test Accuracy: {val_acc}')\n",
        "\n",
        "    aurocs = test_model(model, real_test_loader, ano_test_loaders)\n",
        "    print('AUROCs:', aurocs)\n",
        "    # print('AUCPRCs:', aucprcs)\n",
        "    # print('AUCPRCs Anom:', aucprcs_anom)\n",
        "\n",
        "    select_th(model, real_test_loader, ano_test_loaders[8])\n"
      ]
    },
    {
      "cell_type": "code",
      "execution_count": 35,
      "metadata": {
        "colab": {
          "base_uri": "https://localhost:8080/"
        },
        "id": "O_98KVA_VN5I",
        "outputId": "4a1b055b-d9b1-4926-e9f7-964a1dd41619"
      },
      "outputs": [
        {
          "name": "stdout",
          "output_type": "stream",
          "text": [
            "Epoch 0 Train Loss: 0.08629892289300574 Test Loss: 0.05234836253066533 Test Accuracy: 0.982\n",
            "Epoch 1 Train Loss: 0.04160032270904816 Test Loss: 0.022896085547072786 Test Accuracy: 0.99\n",
            "AUROCs: 0.9917151111111111\n",
            "0.5005 0.001\n",
            "0.5475 0.11088888888888888\n",
            "0.6245 0.22077777777777777\n",
            "0.7185 0.33066666666666666\n",
            "0.816 0.44055555555555553\n",
            "0.8805 0.5504444444444444\n",
            "0.9295 0.6603333333333333\n",
            "0.9545 0.7702222222222221\n",
            "0.9735 0.8801111111111111\n",
            "0.9805 0.99\n"
          ]
        }
      ],
      "source": [
        "main(real_class=1)"
      ]
    },
    {
      "cell_type": "code",
      "execution_count": 39,
      "metadata": {
        "colab": {
          "base_uri": "https://localhost:8080/"
        },
        "id": "rjp2Hry7aO7Q",
        "outputId": "acef9bdf-6581-41ae-e0ad-387a1dc8bdc7"
      },
      "outputs": [
        {
          "name": "stdout",
          "output_type": "stream",
          "text": [
            "Epoch 0 Train Loss: 0.10411653333683213 Test Loss: 0.05094477532596642 Test Accuracy: 0.983\n",
            "Epoch 1 Train Loss: 0.03633267194939609 Test Loss: 0.06957225145623624 Test Accuracy: 0.983\n",
            "AUROCs: 0.9853778888888889\n",
            "0.596 0.001\n",
            "0.8255 0.11088888888888888\n",
            "0.8835 0.22077777777777777\n",
            "0.925 0.33066666666666666\n",
            "0.9465 0.44055555555555553\n",
            "0.9635 0.5504444444444444\n",
            "0.9715 0.6603333333333333\n",
            "0.972 0.7702222222222221\n",
            "0.975 0.8801111111111111\n",
            "0.966 0.99\n"
          ]
        }
      ],
      "source": [
        "main(real_class=1)"
      ]
    }
  ],
  "metadata": {
    "accelerator": "GPU",
    "colab": {
      "gpuType": "T4",
      "provenance": []
    },
    "kernelspec": {
      "display_name": "dul",
      "language": "python",
      "name": "python3"
    },
    "language_info": {
      "name": "python",
      "version": "3.10.16"
    }
  },
  "nbformat": 4,
  "nbformat_minor": 0
}
